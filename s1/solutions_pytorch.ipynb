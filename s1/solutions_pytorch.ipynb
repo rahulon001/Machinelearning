{
 "cells": [
  {
   "cell_type": "markdown",
   "metadata": {},
   "source": [
    "# Pytorch\n",
    "\n",
    "##### Keywords: gradient descent,  pytorch, sgd, minibatch sgd"
   ]
  },
  {
   "cell_type": "markdown",
   "metadata": {},
   "source": [
    "## Contents\n",
    "{:.no_toc}\n",
    "* \n",
    "{: toc}"
   ]
  },
  {
   "cell_type": "markdown",
   "metadata": {},
   "source": [
    "## Installing PyTorch\n",
    "\n",
    "Install pytorch by going to its web page\n",
    "\n",
    "\n",
    "#### Testing Installation\n",
    "\n",
    "If the code cell shows an error, then your PyTorch installation is not working and you should contact one of the teaching staff."
   ]
  },
  {
   "cell_type": "code",
   "execution_count": 1,
   "metadata": {},
   "outputs": [
    {
     "name": "stdout",
     "output_type": "stream",
     "text": [
      "1.0.0\n",
      "0.2.1\n",
      "tensor([[0.9718, 0.5078, 0.0412],\n",
      "        [0.6562, 0.1920, 0.2610],\n",
      "        [0.8827, 0.8750, 0.7268],\n",
      "        [0.7780, 0.2765, 0.8572],\n",
      "        [0.3550, 0.7829, 0.0274]])\n",
      "-6.699859483490815\n"
     ]
    }
   ],
   "source": [
    "### Code Cell to Test PyTorch\n",
    "\n",
    "import torch\n",
    "print(torch.__version__)\n",
    "import torchvision\n",
    "import torchvision.transforms as transforms\n",
    "print(torchvision.__version__)\n",
    "\n",
    "x = torch.rand(5, 3)\n",
    "print(x)\n",
    "\n",
    "transforms.RandomRotation(0.7)\n",
    "transforms.RandomRotation([0.9, 0.2])\n",
    "\n",
    "t = transforms.RandomRotation(10)\n",
    "angle = t.get_params(t.degrees)\n",
    "\n",
    "print(angle)\n"
   ]
  },
  {
   "cell_type": "markdown",
   "metadata": {},
   "source": [
    "## Why PyTorch?\n",
    "\n",
    "*All the quotes will come from the PyTorch About Page http://pytorch.org/about/ from which we'll plagiarize shamelessly.  After all, who better to tout the virtues of PyTorch than the creators?*\n",
    "\n",
    "\n",
    "### What is PyTorch?\n",
    "\n",
    "According to the PyTorch about page, \"PyTorch is a python package that provides two high-level features:\n",
    "\n",
    "- Tensor computation (like numpy) with strong GPU acceleration\n",
    "- Deep Neural Networks built on a tape-based autograd system\"\n",
    "\n",
    "### Why is it getting so popular?\n",
    "\n",
    "#### It's quite fast\n",
    "\n",
    "\"PyTorch has minimal framework overhead. We integrate acceleration libraries such as Intel MKL and NVIDIA (CuDNN, NCCL) to maximize speed. At the core, it’s CPU and GPU Tensor and Neural Network backends (TH, THC, THNN, THCUNN) are written as independent libraries with a C99 API.\n",
    "They are mature and have been tested for years.\n",
    "\n",
    "Hence, PyTorch is quite fast – whether you run small or large neural networks.\"\n",
    "\n",
    "#### Imperative programming experience\n",
    "\n",
    "\"PyTorch is designed to be intuitive, linear in thought and easy to use. When you execute a line of code, it gets executed. There isn’t an asynchronous view of the world. When you drop into a debugger, or receive error messages and stack traces, understanding them is straight-forward. The stack-trace points to exactly where your code was defined. We hope you never spend hours debugging your code because of bad stack traces or asynchronous and opaque execution engines.\"\n",
    "\n",
    "\"PyTorch is not a Python binding into a monolothic C++ framework. It is built to be deeply integrated into Python. You can use it naturally like you would use numpy / scipy / scikit-learn etc. You can write your new neural network layers in Python itself, using your favorite libraries and use packages such as Cython and Numba. Our goal is to not reinvent the wheel where appropriate.\"\n",
    "\n",
    "#### Takes advantage of GPUs easily\n",
    "\n",
    "\"PyTorch provides Tensors that can live either on the CPU or the GPU, and accelerate compute by a huge amount.\n",
    "\n",
    "We provide a wide variety of tensor routines to accelerate and fit your scientific computation needs such as slicing, indexing, math operations, linear algebra, reductions. And they are fast!\"\n",
    "\n",
    "\n",
    "#### Dynamic Graphs!!!\n",
    "\n",
    "\"Most frameworks such as TensorFlow, Theano, Caffe and CNTK have a static view of the world. One has to build a neural network, and reuse the same structure again and again. Changing the way the network behaves means that one has to start from scratch.\n",
    "\n",
    "With PyTorch, we use a technique called Reverse-mode auto-differentiation, which allows you to change the way your network behaves arbitrarily with zero lag or overhead. Our inspiration comes from several research papers on this topic, as well as current and past work such as autograd, autograd, Chainer, etc.\n",
    "\n",
    "While this technique is not unique to PyTorch, it’s one of the fastest implementations of it to date. You get the best of speed and flexibility for your crazy research.\"\n",
    "\n"
   ]
  },
  {
   "cell_type": "markdown",
   "metadata": {},
   "source": [
    "## Working with PyTorch Basics\n",
    "\n",
    "Enough of the sales pitch!  Let's start to understand the PyTorch basics.\n",
    "\n",
    "The basic unit of PyTorch is a tensor (basically a multi-dimensional array like a np.ndarray).\n",
    "\n",
    "![](https://cdn-images-1.medium.com/max/2000/1*_D5ZvufDS38WkhK9rK32hQ.jpeg)\n",
    "\n",
    "(image borrowed from https://hackernoon.com/learning-ai-if-you-suck-at-math-p4-tensors-illustrated-with-cats-27f0002c9b32 )\n",
    "\n",
    "We can create PyTorch tensors directly."
   ]
  },
  {
   "cell_type": "code",
   "execution_count": 33,
   "metadata": {},
   "outputs": [],
   "source": [
    "# from https://www.stefanfiott.com/machine-learning/tensors-and-gradients-in-pytorch/\n",
    "def tensor_properties(t, show_value=True):\n",
    "    print('Tensor properties:')\n",
    "    props = [('rank', t.dim()),\n",
    "             ('shape', t.size()),\n",
    "             ('data type', t.dtype),\n",
    "             ('tensor type', t.type())]\n",
    "    for s,v in props:\n",
    "        print('\\t{0:12}: {1}'.format(s,v))\n",
    "    if show_value:\n",
    "        #print('{0:12}: {1}'.format('value',t))\n",
    "        print(\"Value:\")\n",
    "        print(t)"
   ]
  },
  {
   "cell_type": "code",
   "execution_count": 34,
   "metadata": {},
   "outputs": [
    {
     "name": "stdout",
     "output_type": "stream",
     "text": [
      "Tensor properties:\n",
      "\trank        : 0\n",
      "\tshape       : torch.Size([])\n",
      "\tdata type   : torch.int64\n",
      "\ttensor type : torch.LongTensor\n",
      "Value:\n",
      "tensor(5)\n"
     ]
    }
   ],
   "source": [
    "# torch.tensor always copies data. See below for 0-copy\n",
    "scalar = torch.tensor(5)\n",
    "tensor_properties(scalar)"
   ]
  },
  {
   "cell_type": "code",
   "execution_count": 35,
   "metadata": {},
   "outputs": [
    {
     "name": "stdout",
     "output_type": "stream",
     "text": [
      "Tensor properties:\n",
      "\trank        : 1\n",
      "\tshape       : torch.Size([6])\n",
      "\tdata type   : torch.float32\n",
      "\ttensor type : torch.FloatTensor\n",
      "Value:\n",
      "tensor([1., 2., 3., 4., 5., 6.])\n"
     ]
    }
   ],
   "source": [
    "## You can create torch.Tensor objects by giving them data directly\n",
    "\n",
    "#  1D vector\n",
    "vector_input = [1., 2., 3., 4., 5., 6.]\n",
    "vector = torch.tensor(vector_input)\n",
    "tensor_properties(vector)"
   ]
  },
  {
   "cell_type": "code",
   "execution_count": 36,
   "metadata": {},
   "outputs": [
    {
     "name": "stdout",
     "output_type": "stream",
     "text": [
      "Tensor properties:\n",
      "\trank        : 2\n",
      "\tshape       : torch.Size([2, 3])\n",
      "\tdata type   : torch.float32\n",
      "\ttensor type : torch.FloatTensor\n",
      "Value:\n",
      "tensor([[1., 2., 3.],\n",
      "        [4., 5., 6.]])\n"
     ]
    }
   ],
   "source": [
    "# Matrix\n",
    "matrix_input = [[1., 2., 3.], [4., 5., 6]]\n",
    "matrix = torch.tensor(matrix_input)\n",
    "tensor_properties(matrix)"
   ]
  },
  {
   "cell_type": "code",
   "execution_count": 37,
   "metadata": {},
   "outputs": [
    {
     "name": "stdout",
     "output_type": "stream",
     "text": [
      "Tensor properties:\n",
      "\trank        : 3\n",
      "\tshape       : torch.Size([2, 2, 2])\n",
      "\tdata type   : torch.float32\n",
      "\ttensor type : torch.FloatTensor\n",
      "Value:\n",
      "tensor([[[1., 2.],\n",
      "         [3., 4.]],\n",
      "\n",
      "        [[5., 6.],\n",
      "         [7., 8.]]])\n"
     ]
    }
   ],
   "source": [
    "# Create a 3D tensor of size 2x2x2.\n",
    "tensor_input = [[[1., 2.], [3., 4.]],\n",
    "          [[5., 6.], [7., 8.]]]\n",
    "tensor3d = torch.tensor(tensor_input)\n",
    "\n",
    "tensor_properties(tensor3d)"
   ]
  },
  {
   "cell_type": "markdown",
   "metadata": {},
   "source": [
    "They can be created without any initialization or initialized with random data from uniform (rand()) or normal (randn()) distributions"
   ]
  },
  {
   "cell_type": "code",
   "execution_count": 41,
   "metadata": {},
   "outputs": [
    {
     "name": "stdout",
     "output_type": "stream",
     "text": [
      "Tensor properties:\n",
      "\trank        : 2\n",
      "\tshape       : torch.Size([2, 5])\n",
      "\tdata type   : torch.float32\n",
      "\ttensor type : torch.FloatTensor\n",
      "Value:\n",
      "tensor([[0., 0., 0., 0., 0.],\n",
      "        [0., 0., 0., 0., 0.]])\n",
      "Tensor properties:\n",
      "\trank        : 2\n",
      "\tshape       : torch.Size([3, 5])\n",
      "\tdata type   : torch.float32\n",
      "\ttensor type : torch.FloatTensor\n",
      "Value:\n",
      "tensor([[0.0000e+00, 3.6893e+19, 0.0000e+00, 3.6893e+19, 5.6052e-45],\n",
      "        [2.1250e+00, 0.0000e+00, 2.2500e+00, 0.0000e+00, 2.3125e+00],\n",
      "        [0.0000e+00, 2.3750e+00, 0.0000e+00, 2.4375e+00, 0.0000e+00]])\n"
     ]
    }
   ],
   "source": [
    "# Tensors with no initialization\n",
    "x_1 = torch.Tensor(2, 5)\n",
    "y_1 = torch.Tensor(3, 5)\n",
    "tensor_properties(x_1)\n",
    "tensor_properties(y_1)"
   ]
  },
  {
   "cell_type": "code",
   "execution_count": 42,
   "metadata": {},
   "outputs": [
    {
     "name": "stdout",
     "output_type": "stream",
     "text": [
      "Tensor properties:\n",
      "\trank        : 2\n",
      "\tshape       : torch.Size([5, 3])\n",
      "\tdata type   : torch.float32\n",
      "\ttensor type : torch.FloatTensor\n",
      "Value:\n",
      "tensor([[0.0160, 0.1109, 0.3924],\n",
      "        [0.6419, 0.4328, 0.7808],\n",
      "        [0.5042, 0.9197, 0.7082],\n",
      "        [0.8976, 0.7045, 0.7741],\n",
      "        [0.4409, 0.8099, 0.8812]])\n",
      "Tensor properties:\n",
      "\trank        : 2\n",
      "\tshape       : torch.Size([5, 5])\n",
      "\tdata type   : torch.float32\n",
      "\ttensor type : torch.FloatTensor\n",
      "Value:\n",
      "tensor([[0.9726, 0.1508, 0.3852, 0.0617, 0.3095],\n",
      "        [0.5604, 0.4257, 0.5412, 0.3063, 0.9071],\n",
      "        [0.2322, 0.1960, 0.4450, 0.1826, 0.6832],\n",
      "        [0.2535, 0.5468, 0.9863, 0.5134, 0.1371],\n",
      "        [0.5602, 0.0810, 0.1064, 0.2473, 0.6854]])\n"
     ]
    }
   ],
   "source": [
    "# Tensors initialized from uniform\n",
    "x_2 = torch.rand(5, 3)\n",
    "y_2 = torch.rand(5, 5)\n",
    "\n",
    "tensor_properties(x_2)\n",
    "tensor_properties(y_2)"
   ]
  },
  {
   "cell_type": "code",
   "execution_count": 43,
   "metadata": {},
   "outputs": [
    {
     "name": "stdout",
     "output_type": "stream",
     "text": [
      "Tensor properties:\n",
      "\trank        : 2\n",
      "\tshape       : torch.Size([5, 3])\n",
      "\tdata type   : torch.float32\n",
      "\ttensor type : torch.FloatTensor\n",
      "Value:\n",
      "tensor([[ 1.7142, -0.0963, -0.1240],\n",
      "        [-0.2096,  0.0325,  0.9866],\n",
      "        [ 1.6827, -1.6406, -0.5467],\n",
      "        [-0.4239,  2.3407, -2.9966],\n",
      "        [-0.4059,  1.2365,  0.0361]])\n",
      "Tensor properties:\n",
      "\trank        : 2\n",
      "\tshape       : torch.Size([5, 5])\n",
      "\tdata type   : torch.float32\n",
      "\ttensor type : torch.FloatTensor\n",
      "Value:\n",
      "tensor([[ 2.0540,  2.3549, -2.0223,  0.3022, -0.3989],\n",
      "        [-0.2337,  1.3552, -0.0882, -0.0346, -0.8724],\n",
      "        [-1.2840, -0.4037, -0.2695,  0.6659, -0.2124],\n",
      "        [ 0.4485,  0.3886,  0.0372,  0.4402, -0.9324],\n",
      "        [-1.0151,  0.3897,  0.4732,  0.3222,  0.2742]])\n"
     ]
    }
   ],
   "source": [
    "# Tensors initialized from normal\n",
    "x_3 = torch.randn(5, 3)\n",
    "y_3 = torch.randn(5, 5)\n",
    "\n",
    "tensor_properties(x_3)\n",
    "tensor_properties(y_3)"
   ]
  },
  {
   "cell_type": "markdown",
   "metadata": {},
   "source": [
    "The expected operations (arithmetic operations, addressing, etc) are all in place."
   ]
  },
  {
   "cell_type": "code",
   "execution_count": 44,
   "metadata": {},
   "outputs": [
    {
     "name": "stdout",
     "output_type": "stream",
     "text": [
      "torch.Size([2, 5])\n",
      "tensor([[0., 0., 0., 0., 0.],\n",
      "        [0., 0., 0., 0., 0.]])\n",
      "tensor([[0.0160, 0.1109, 0.3924],\n",
      "        [0.6419, 0.4328, 0.7808],\n",
      "        [0.5042, 0.9197, 0.7082],\n",
      "        [0.8976, 0.7045, 0.7741],\n",
      "        [0.4409, 0.8099, 0.8812]])\n",
      "tensor([[ 1.7142, -0.0963, -0.1240],\n",
      "        [-0.2096,  0.0325,  0.9866],\n",
      "        [ 1.6827, -1.6406, -0.5467],\n",
      "        [-0.4239,  2.3407, -2.9966],\n",
      "        [-0.4059,  1.2365,  0.0361]])\n",
      "tensor([[ 1.7301,  0.0145,  0.2684],\n",
      "        [ 0.4323,  0.4653,  1.7673],\n",
      "        [ 2.1869, -0.7209,  0.1615],\n",
      "        [ 0.4736,  3.0452, -2.2224],\n",
      "        [ 0.0350,  2.0464,  0.9173]])\n",
      "tensor([-0.1240,  0.9866, -0.5467, -2.9966,  0.0361])\n"
     ]
    }
   ],
   "source": [
    "# Expect (2,5)\n",
    "print(x_1.size())\n",
    "\n",
    "print(x_1)\n",
    "\n",
    "\n",
    "# Addition\n",
    "print(x_2)\n",
    "print(x_3)\n",
    "\n",
    "print(x_2 + x_3)\n",
    "\n",
    "# Addressing\n",
    "print(x_3[:, 2])"
   ]
  },
  {
   "cell_type": "markdown",
   "metadata": {},
   "source": [
    "It's easy to move between PyTorch and Numpy worlds with numpy() and torch.from_numpy()"
   ]
  },
  {
   "cell_type": "code",
   "execution_count": 45,
   "metadata": {},
   "outputs": [
    {
     "name": "stdout",
     "output_type": "stream",
     "text": [
      "tensor([[0., 0., 0., 0., 0.],\n",
      "        [0., 0., 0., 0., 0.]])\n",
      "[[0. 0. 0. 0. 0.]\n",
      " [0. 0. 0. 0. 0.]]\n",
      "<class 'torch.Tensor'>\n",
      "<class 'numpy.ndarray'>\n",
      "<class 'numpy.ndarray'>\n",
      "<class 'torch.Tensor'>\n"
     ]
    }
   ],
   "source": [
    "# PyTorch --> Numpy\n",
    "print(x_1)\n",
    "print(x_1.numpy())\n",
    "\n",
    "print(type(x_1))\n",
    "print(type(x_1.numpy()))\n",
    "\n",
    "numpy_x_1 = x_1.numpy()\n",
    "\n",
    "# does not makes a copy: just wraps a tensor object around the numpy array\n",
    "pytorch_x_1 = torch.from_numpy(numpy_x_1)\n",
    "\n",
    "print(type(numpy_x_1))\n",
    "print(type(pytorch_x_1))"
   ]
  },
  {
   "cell_type": "markdown",
   "metadata": {},
   "source": [
    "Finally PyTorch provides some convenience mechanisms for concatenating Tensors via torch.cat() and reshaping them with  .view() "
   ]
  },
  {
   "cell_type": "code",
   "execution_count": 46,
   "metadata": {},
   "outputs": [
    {
     "name": "stdout",
     "output_type": "stream",
     "text": [
      "torch.Size([5, 5])\n",
      "torch.Size([2, 8])\n",
      "tensor([[[ 0.7403,  1.9634,  0.5669, -1.6240],\n",
      "         [ 0.1519,  0.4694, -0.2074,  0.2681],\n",
      "         [-1.3930, -1.2988, -1.4896, -0.0847]],\n",
      "\n",
      "        [[ 0.6485,  1.1289, -0.3265,  0.7938],\n",
      "         [-0.2717, -0.0382, -0.1586, -0.3487],\n",
      "         [ 1.5064, -1.1478,  0.3743,  0.0665]]])\n",
      "tensor([[ 0.7403,  1.9634,  0.5669, -1.6240,  0.1519,  0.4694, -0.2074,  0.2681,\n",
      "         -1.3930, -1.2988, -1.4896, -0.0847],\n",
      "        [ 0.6485,  1.1289, -0.3265,  0.7938, -0.2717, -0.0382, -0.1586, -0.3487,\n",
      "          1.5064, -1.1478,  0.3743,  0.0665]])\n",
      "tensor([[ 0.7403,  1.9634,  0.5669, -1.6240,  0.1519,  0.4694, -0.2074,  0.2681,\n",
      "         -1.3930, -1.2988, -1.4896, -0.0847],\n",
      "        [ 0.6485,  1.1289, -0.3265,  0.7938, -0.2717, -0.0382, -0.1586, -0.3487,\n",
      "          1.5064, -1.1478,  0.3743,  0.0665]])\n"
     ]
    }
   ],
   "source": [
    "## Concatenating\n",
    "\n",
    "# By default, it concatenates along the zeroth(first) axis (concatenates rows)\n",
    "x_1 = torch.randn(2, 5)\n",
    "y_1 = torch.randn(3, 5)\n",
    "z_1 = torch.cat([x_1, y_1])\n",
    "print(z_1.shape)\n",
    "\n",
    "# Concatenate columns:\n",
    "x_2 = torch.randn(2, 3)\n",
    "y_2 = torch.randn(2, 5)\n",
    "# second arg specifies which axis to concat along\n",
    "z_2 = torch.cat([x_2, y_2], 1)\n",
    "print(z_2.shape)\n",
    "\n",
    "## Reshaping\n",
    "x = torch.randn(2, 3, 4)\n",
    "print(x)\n",
    "print(x.view(2, 12))  # Reshape to 2 rows, 12 columns\n",
    "# Same as above.  If one of the dimensions is -1, its size can be inferred\n",
    "print(x.view(2, -1))"
   ]
  },
  {
   "cell_type": "markdown",
   "metadata": {},
   "source": [
    "## PyTorch Variables and the Computational Graph\n",
    "\n",
    "Ok -- back to PyTorch.\n",
    "\n",
    "The other fundamental PyTorch construct besides Tensors are Variables.  Variables are very similar to tensors, but they also keep track of the graph (including their gradients for autodifferentiation).  They are defined in the autograd module of torch.\n",
    "\n",
    "This has changed in recent versions of pytorch, but i want to keep this section in as you will likely see code which uses `Variables`. A `Variable` bow is just a tensor with `requires_grad=True`."
   ]
  },
  {
   "cell_type": "code",
   "execution_count": 63,
   "metadata": {},
   "outputs": [],
   "source": [
    "from torch.autograd import Variable\n",
    "import torch.nn as nn\n",
    "\n",
    "# Let's create a variable by initializing it with a tensor\n",
    "first_tensor = torch.Tensor([23.3])"
   ]
  },
  {
   "cell_type": "code",
   "execution_count": 64,
   "metadata": {},
   "outputs": [
    {
     "name": "stdout",
     "output_type": "stream",
     "text": [
      "Tensor properties:\n",
      "\trank        : 1\n",
      "\tshape       : torch.Size([1])\n",
      "\tdata type   : torch.float32\n",
      "\ttensor type : torch.FloatTensor\n",
      "Value:\n",
      "tensor([23.3000])\n"
     ]
    }
   ],
   "source": [
    "tensor_properties(first_tensor)"
   ]
  },
  {
   "cell_type": "code",
   "execution_count": 65,
   "metadata": {},
   "outputs": [
    {
     "name": "stdout",
     "output_type": "stream",
     "text": [
      "first_tensor.grad None\n"
     ]
    }
   ],
   "source": [
    "print(\"first_tensor.grad\", first_tensor.grad)"
   ]
  },
  {
   "cell_type": "code",
   "execution_count": 66,
   "metadata": {},
   "outputs": [
    {
     "name": "stdout",
     "output_type": "stream",
     "text": [
      "first variables gradient:  None\n",
      "first variables data:  tensor([23.3000])\n"
     ]
    }
   ],
   "source": [
    "first_variable = Variable(first_tensor, requires_grad=True)\n",
    "\n",
    "print(\"first variables gradient: \", first_variable.grad)\n",
    "print(\"first variables data: \", first_variable.data)"
   ]
  },
  {
   "cell_type": "code",
   "execution_count": 67,
   "metadata": {},
   "outputs": [
    {
     "name": "stdout",
     "output_type": "stream",
     "text": [
      "Tensor properties:\n",
      "\trank        : 1\n",
      "\tshape       : torch.Size([1])\n",
      "\tdata type   : torch.float32\n",
      "\ttensor type : torch.FloatTensor\n",
      "Value:\n",
      "tensor([23.3000])\n"
     ]
    }
   ],
   "source": [
    "tensor_properties(first_tensor)"
   ]
  },
  {
   "cell_type": "code",
   "execution_count": 68,
   "metadata": {},
   "outputs": [],
   "source": [
    "first_tensor_new = torch.tensor([23.3], requires_grad=True)"
   ]
  },
  {
   "cell_type": "code",
   "execution_count": 69,
   "metadata": {},
   "outputs": [
    {
     "name": "stdout",
     "output_type": "stream",
     "text": [
      "Tensor properties:\n",
      "\trank        : 1\n",
      "\tshape       : torch.Size([1])\n",
      "\tdata type   : torch.float32\n",
      "\ttensor type : torch.FloatTensor\n",
      "Value:\n",
      "tensor([23.3000], requires_grad=True)\n"
     ]
    }
   ],
   "source": [
    "tensor_properties(first_tensor_new)"
   ]
  },
  {
   "cell_type": "code",
   "execution_count": 70,
   "metadata": {},
   "outputs": [
    {
     "name": "stdout",
     "output_type": "stream",
     "text": [
      "first variables gradient:  None\n",
      "first variables data:  tensor([23.3000])\n"
     ]
    }
   ],
   "source": [
    "print(\"first variables gradient: \", first_tensor_new.grad)\n",
    "print(\"first variables data: \", first_variable.data)"
   ]
  },
  {
   "cell_type": "code",
   "execution_count": 71,
   "metadata": {},
   "outputs": [
    {
     "name": "stdout",
     "output_type": "stream",
     "text": [
      "first_tensor.grad None\n"
     ]
    }
   ],
   "source": [
    "print(\"first_tensor.grad\", first_tensor.grad)"
   ]
  },
  {
   "cell_type": "markdown",
   "metadata": {},
   "source": [
    "Now let's create some new variables. We can do so implicitly just by creating other variables with functional relationships to our variable."
   ]
  },
  {
   "cell_type": "code",
   "execution_count": 77,
   "metadata": {},
   "outputs": [
    {
     "name": "stdout",
     "output_type": "stream",
     "text": [
      "x.data tensor([23.3000])\n",
      "z.grad:  None\n",
      "y.data:  tensor([11563.5557])\n",
      "y.grad:  None\n",
      "z.data:  tensor([1.])\n",
      "z.grad:  None\n",
      "x.grad: tensor([0.])\n"
     ]
    }
   ],
   "source": [
    "x = first_variable\n",
    "print(\"x.data\", x.data)\n",
    "y = (x * x) * (x - 2) # y is a variable\n",
    "z = torch.tanh(y) # z has a functional relationship to y, it's a variable\n",
    "print(\"z.grad: \", z.grad)\n",
    "\n",
    "z.backward()\n",
    "\n",
    "print(\"y.data: \", y.data)\n",
    "print(\"y.grad: \", y.grad)\n",
    "\n",
    "print(\"z.data: \", z.data)\n",
    "print(\"z.grad: \", z.grad)\n",
    "\n",
    "print(\"x.grad:\", x.grad)\n"
   ]
  },
  {
   "cell_type": "code",
   "execution_count": 78,
   "metadata": {},
   "outputs": [
    {
     "name": "stdout",
     "output_type": "stream",
     "text": [
      "x.data tensor([23.3000])\n",
      "z.grad:  None\n",
      "y.data:  tensor([1.5409e+33])\n",
      "y.grad:  None\n",
      "z.data:  tensor([1.])\n",
      "z.grad:  None\n",
      "x.grad: tensor([0.])\n"
     ]
    }
   ],
   "source": [
    "x = first_tensor_new\n",
    "print(\"x.data\", x.data)\n",
    "y = (x ** x) * (x - 2) # y is a variable\n",
    "z = torch.tanh(y) # z has a functional relationship to y\n",
    "print(\"z.grad: \", z.grad)\n",
    "\n",
    "z.backward()\n",
    "\n",
    "print(\"y.data: \", y.data)\n",
    "print(\"y.grad: \", y.grad)\n",
    "\n",
    "print(\"z.data: \", z.data)\n",
    "print(\"z.grad: \", z.grad)\n",
    "\n",
    "print(\"x.grad:\", x.grad)\n",
    "\n"
   ]
  },
  {
   "cell_type": "markdown",
   "metadata": {},
   "source": [
    "Variables (and now tensors requiring gradients) come with a .backward() that allows them to do autodifferentiation via backwards propagation.  "
   ]
  }
 ],
 "metadata": {
  "anaconda-cloud": {},
  "kernelspec": {
   "display_name": "Python 3",
   "language": "python",
   "name": "python3"
  },
  "language_info": {
   "codemirror_mode": {
    "name": "ipython",
    "version": 3
   },
   "file_extension": ".py",
   "mimetype": "text/x-python",
   "name": "python",
   "nbconvert_exporter": "python",
   "pygments_lexer": "ipython3",
   "version": "3.6.8"
  },
  "nteract": {
   "version": "0.7.1"
  }
 },
 "nbformat": 4,
 "nbformat_minor": 2
}
