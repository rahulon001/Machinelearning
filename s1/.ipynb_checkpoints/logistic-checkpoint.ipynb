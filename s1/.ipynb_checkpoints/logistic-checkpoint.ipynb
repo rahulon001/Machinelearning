{
 "cells": [
  {
   "cell_type": "markdown",
   "metadata": {},
   "source": [
    "# Classification with linear and logistic regression"
   ]
  },
  {
   "cell_type": "code",
   "execution_count": 1,
   "metadata": {},
   "outputs": [],
   "source": [
    "%matplotlib inline\n",
    "import numpy as np\n",
    "import seaborn as sns\n",
    "import matplotlib.pyplot as plt\n",
    "import matplotlib.animation as animation\n",
    "from scipy import stats \n",
    "\n",
    "from sklearn.datasets.samples_generator import make_blobs"
   ]
  },
  {
   "cell_type": "code",
   "execution_count": 10,
   "metadata": {},
   "outputs": [],
   "source": [
    "X, y = make_blobs(n_samples=100, centers= np.array([[-1],[1]]), n_features=1, shuffle=True, random_state=2017)"
   ]
  },
  {
   "cell_type": "code",
   "execution_count": 11,
   "metadata": {},
   "outputs": [
    {
     "data": {
      "text/plain": [
       "array([[ 1.89574884e+00],\n",
       "       [ 7.79920722e-01],\n",
       "       [-1.81726253e+00],\n",
       "       [ 1.21276995e+00],\n",
       "       [ 1.67422499e+00],\n",
       "       [ 1.41544256e-01],\n",
       "       [ 5.62827432e-01],\n",
       "       [-1.84860918e+00],\n",
       "       [ 3.06666159e-01],\n",
       "       [ 7.25188274e-01],\n",
       "       [-1.14213621e-01],\n",
       "       [-7.17207488e-02],\n",
       "       [-1.52824237e+00],\n",
       "       [-5.55178535e-01],\n",
       "       [ 2.75331995e-01],\n",
       "       [-2.02294529e+00],\n",
       "       [ 1.36476556e-01],\n",
       "       [ 1.03133165e+00],\n",
       "       [ 1.67705620e+00],\n",
       "       [-1.35285906e+00],\n",
       "       [ 4.71515882e-02],\n",
       "       [ 9.88930042e-01],\n",
       "       [-2.08933018e+00],\n",
       "       [ 2.66876509e-01],\n",
       "       [ 9.01562268e-01],\n",
       "       [-1.01124513e+00],\n",
       "       [ 1.03225343e+00],\n",
       "       [-7.85546580e-01],\n",
       "       [ 2.19533418e+00],\n",
       "       [-1.48253414e+00],\n",
       "       [ 4.46924733e-01],\n",
       "       [-8.81973943e-02],\n",
       "       [ 1.10784411e+00],\n",
       "       [ 1.59405599e+00],\n",
       "       [ 2.90456617e-01],\n",
       "       [-8.51487191e-01],\n",
       "       [-9.78157662e-01],\n",
       "       [ 2.41916537e-01],\n",
       "       [ 2.23233384e+00],\n",
       "       [ 4.62429214e-01],\n",
       "       [ 1.81253433e+00],\n",
       "       [ 2.14773859e+00],\n",
       "       [ 5.10287208e-01],\n",
       "       [-1.09592554e+00],\n",
       "       [-2.50157469e+00],\n",
       "       [ 1.88361674e+00],\n",
       "       [-1.44412137e+00],\n",
       "       [ 4.06297107e-01],\n",
       "       [-1.33654744e+00],\n",
       "       [ 1.78779876e+00],\n",
       "       [-2.43048995e+00],\n",
       "       [ 9.41356266e-03],\n",
       "       [ 1.38909450e-01],\n",
       "       [-4.26524023e-01],\n",
       "       [-1.52026100e+00],\n",
       "       [-1.95908022e+00],\n",
       "       [-7.10856022e-01],\n",
       "       [ 5.13891989e-01],\n",
       "       [ 1.50541435e+00],\n",
       "       [-1.39457786e+00],\n",
       "       [-1.48097796e-03],\n",
       "       [-2.56386788e+00],\n",
       "       [-1.84764818e+00],\n",
       "       [-1.59573347e+00],\n",
       "       [ 2.33682587e+00],\n",
       "       [-1.14039799e+00],\n",
       "       [-1.20875222e+00],\n",
       "       [ 4.44546167e-01],\n",
       "       [ 4.46746462e-01],\n",
       "       [ 2.39334529e+00],\n",
       "       [ 1.74268098e+00],\n",
       "       [-8.00907728e-01],\n",
       "       [-2.01412413e+00],\n",
       "       [ 1.04094415e-01],\n",
       "       [-9.21992412e-01],\n",
       "       [ 1.36908201e+00],\n",
       "       [-2.08669572e+00],\n",
       "       [-1.38342089e+00],\n",
       "       [ 2.18192126e+00],\n",
       "       [-3.20268367e+00],\n",
       "       [ 3.11817422e-01],\n",
       "       [-8.13869788e-01],\n",
       "       [ 7.10573289e-01],\n",
       "       [-9.73848625e-01],\n",
       "       [-2.40727442e+00],\n",
       "       [-2.23456807e+00],\n",
       "       [-1.91772873e+00],\n",
       "       [-1.19933591e+00],\n",
       "       [ 2.07524045e+00],\n",
       "       [-1.74358543e+00],\n",
       "       [-1.44574656e+00],\n",
       "       [ 2.37214258e+00],\n",
       "       [ 3.42038368e+00],\n",
       "       [-6.05238371e-01],\n",
       "       [ 2.20320029e+00],\n",
       "       [ 8.18947885e-01],\n",
       "       [ 2.20129796e+00],\n",
       "       [ 8.19922138e-01],\n",
       "       [ 1.46630994e+00],\n",
       "       [ 6.07149571e-01]])"
      ]
     },
     "execution_count": 11,
     "metadata": {},
     "output_type": "execute_result"
    }
   ],
   "source": [
    "X"
   ]
  },
  {
   "cell_type": "code",
   "execution_count": 13,
   "metadata": {},
   "outputs": [
    {
     "data": {
      "text/plain": [
       "<matplotlib.collections.PathCollection at 0x1a11135390>"
      ]
     },
     "execution_count": 13,
     "metadata": {},
     "output_type": "execute_result"
    },
    {
     "data": {
      "image/png": "[encoded data removed]",
      "text/plain": [
       "<Figure size 432x288 with 1 Axes>"
      ]
     },
     "metadata": {},
     "output_type": "display_data"
    }
   ],
   "source": [
    "plt.scatter(X,y)"
   ]
  },
  {
   "cell_type": "code",
   "execution_count": 14,
   "metadata": {},
   "outputs": [],
   "source": [
    "from sklearn.linear_model import LinearRegression, LogisticRegression"
   ]
  },
  {
   "cell_type": "code",
   "execution_count": 15,
   "metadata": {},
   "outputs": [],
   "source": [
    "lr = LinearRegression().fit(X,y)\n",
    "xgrid = np.linspace(-3.5,3.5, 1000)\n",
    "Xgrid = xgrid.reshape(-1,1)\n",
    "Y = y.reshape(-1,1)\n",
    "yp = lr.predict(Xgrid)"
   ]
  },
  {
   "cell_type": "code",
   "execution_count": 19,
   "metadata": {},
   "outputs": [
    {
     "data": {
      "text/plain": [
       "[<matplotlib.lines.Line2D at 0x1a209c14a8>]"
      ]
     },
     "execution_count": 19,
     "metadata": {},
     "output_type": "execute_result"
    },
    {
     "data": {
      "image/png": "[encoded data removed]",
      "text/plain": [
       "<Figure size 432x288 with 1 Axes>"
      ]
     },
     "metadata": {},
     "output_type": "display_data"
    }
   ],
   "source": [
    "plt.plot(X,y,'o')\n",
    "plt.plot(xgrid, yp)"
   ]
  },
  {
   "cell_type": "code",
   "execution_count": 27,
   "metadata": {},
   "outputs": [],
   "source": [
    "ypfilt = np.zeros(xgrid.shape[0])\n",
    "for i,x in enumerate(xgrid):\n",
    "    if yp[i] >= 1.0:\n",
    "        ypfilt[i] = 1.0\n",
    "    elif yp[i] <= 0.0:\n",
    "        ypfilt[i] = 0.0\n",
    "    else:\n",
    "        ypfilt[i] = yp[i]"
   ]
  },
  {
   "cell_type": "code",
   "execution_count": 28,
   "metadata": {},
   "outputs": [
    {
     "data": {
      "text/plain": [
       "[<matplotlib.lines.Line2D at 0x1a20be5cf8>]"
      ]
     },
     "execution_count": 28,
     "metadata": {},
     "output_type": "execute_result"
    },
    {
     "data": {
      "image/png": "[encoded data removed]",
      "text/plain": [
       "<Figure size 432x288 with 1 Axes>"
      ]
     },
     "metadata": {},
     "output_type": "display_data"
    }
   ],
   "source": [
    "plt.plot(X,y,'o')\n",
    "plt.plot(xgrid, ypfilt)"
   ]
  },
  {
   "cell_type": "code",
   "execution_count": 20,
   "metadata": {},
   "outputs": [],
   "source": [
    "logr = LogisticRegression(C=10000).fit(X,y)\n",
    "yp2 = logr.predict(Xgrid)"
   ]
  },
  {
   "cell_type": "code",
   "execution_count": 21,
   "metadata": {},
   "outputs": [
    {
     "data": {
      "text/plain": [
       "[<matplotlib.lines.Line2D at 0x1a20a4a320>]"
      ]
     },
     "execution_count": 21,
     "metadata": {},
     "output_type": "execute_result"
    },
    {
     "data": {
      "image/png": "[encoded data removed]",
      "text/plain": [
       "<Figure size 432x288 with 1 Axes>"
      ]
     },
     "metadata": {},
     "output_type": "display_data"
    }
   ],
   "source": [
    "plt.plot(X,y,'o')\n",
    "plt.plot(xgrid, yp2)"
   ]
  },
  {
   "cell_type": "code",
   "execution_count": 24,
   "metadata": {},
   "outputs": [],
   "source": [
    "probs = logr.predict_proba(Xgrid)[:,1]"
   ]
  },
  {
   "cell_type": "code",
   "execution_count": 25,
   "metadata": {},
   "outputs": [
    {
     "data": {
      "text/plain": [
       "[<matplotlib.lines.Line2D at 0x1a209ace10>]"
      ]
     },
     "execution_count": 25,
     "metadata": {},
     "output_type": "execute_result"
    },
    {
     "data": {
      "image/png": "[encoded data removed]",
      "text/plain": [
       "<Figure size 432x288 with 1 Axes>"
      ]
     },
     "metadata": {},
     "output_type": "display_data"
    }
   ],
   "source": [
    "plt.plot(X,y,'o')\n",
    "plt.plot(xgrid, probs)"
   ]
  },
  {
   "cell_type": "code",
   "execution_count": 30,
   "metadata": {},
   "outputs": [],
   "source": [
    "import torch"
   ]
  },
  {
   "cell_type": "code",
   "execution_count": 42,
   "metadata": {},
   "outputs": [],
   "source": [
    "# from https://www.stefanfiott.com/machine-learning/tensors-and-gradients-in-pytorch/\n",
    "def tensor_properties(t, show_value=True):\n",
    "    print('Tensor properties:')\n",
    "    props = [('rank', t.dim()),\n",
    "             ('shape', t.size()),\n",
    "             ('data type', t.dtype),\n",
    "             ('tensor type', t.type())]\n",
    "    for s,v in props:\n",
    "        print('\\t{0:12}: {1}'.format(s,v))\n",
    "    if show_value:\n",
    "        #print('{0:12}: {1}'.format('value',t))\n",
    "        print(\"Value:\")\n",
    "        print(t)"
   ]
  },
  {
   "cell_type": "code",
   "execution_count": 44,
   "metadata": {},
   "outputs": [],
   "source": [
    "X_data = torch.from_numpy(X).float()\n",
    "Y_data = torch.from_numpy(Y)\n",
    "y_data = torch.from_numpy(y)"
   ]
  },
  {
   "cell_type": "code",
   "execution_count": 43,
   "metadata": {},
   "outputs": [
    {
     "name": "stdout",
     "output_type": "stream",
     "text": [
      "Tensor properties:\n",
      "\trank        : 2\n",
      "\tshape       : torch.Size([100, 1])\n",
      "\tdata type   : torch.int64\n",
      "\ttensor type : torch.LongTensor\n",
      "Value:\n",
      "tensor([[1],\n",
      "        [1],\n",
      "        [0],\n",
      "        [1],\n",
      "        [1],\n",
      "        [1],\n",
      "        [1],\n",
      "        [0],\n",
      "        [1],\n",
      "        [1],\n",
      "        [0],\n",
      "        [0],\n",
      "        [0],\n",
      "        [0],\n",
      "        [1],\n",
      "        [0],\n",
      "        [1],\n",
      "        [1],\n",
      "        [1],\n",
      "        [0],\n",
      "        [1],\n",
      "        [0],\n",
      "        [0],\n",
      "        [1],\n",
      "        [1],\n",
      "        [0],\n",
      "        [1],\n",
      "        [0],\n",
      "        [1],\n",
      "        [0],\n",
      "        [1],\n",
      "        [0],\n",
      "        [1],\n",
      "        [1],\n",
      "        [1],\n",
      "        [0],\n",
      "        [0],\n",
      "        [1],\n",
      "        [1],\n",
      "        [1],\n",
      "        [1],\n",
      "        [1],\n",
      "        [0],\n",
      "        [0],\n",
      "        [0],\n",
      "        [1],\n",
      "        [0],\n",
      "        [1],\n",
      "        [0],\n",
      "        [1],\n",
      "        [0],\n",
      "        [1],\n",
      "        [1],\n",
      "        [0],\n",
      "        [0],\n",
      "        [0],\n",
      "        [0],\n",
      "        [1],\n",
      "        [1],\n",
      "        [0],\n",
      "        [1],\n",
      "        [0],\n",
      "        [0],\n",
      "        [0],\n",
      "        [1],\n",
      "        [0],\n",
      "        [0],\n",
      "        [0],\n",
      "        [1],\n",
      "        [1],\n",
      "        [1],\n",
      "        [0],\n",
      "        [0],\n",
      "        [1],\n",
      "        [0],\n",
      "        [1],\n",
      "        [0],\n",
      "        [0],\n",
      "        [1],\n",
      "        [0],\n",
      "        [0],\n",
      "        [0],\n",
      "        [1],\n",
      "        [0],\n",
      "        [0],\n",
      "        [0],\n",
      "        [0],\n",
      "        [0],\n",
      "        [1],\n",
      "        [0],\n",
      "        [0],\n",
      "        [1],\n",
      "        [1],\n",
      "        [0],\n",
      "        [1],\n",
      "        [0],\n",
      "        [1],\n",
      "        [1],\n",
      "        [1],\n",
      "        [1]])\n"
     ]
    }
   ],
   "source": [
    "tensor_properties(Y_data)"
   ]
  },
  {
   "cell_type": "code",
   "execution_count": 37,
   "metadata": {},
   "outputs": [],
   "source": [
    "class Model(torch.nn.Module):\n",
    "\n",
    "    def __init__(self):\n",
    "        \"\"\"\n",
    "        In the constructor we instantiate nn.Linear module\n",
    "        \"\"\"\n",
    "        super(Model, self).__init__()\n",
    "        self.linear = torch.nn.Linear(1, 2)  # One in and two out\n",
    "        self.lsm = torch.nn.LogSoftmax()\n",
    "\n",
    "    def forward(self, x):\n",
    "        linears = self.linear(x)\n",
    "        logprobs = self.lsm(linears)\n",
    "        return logprobs"
   ]
  },
  {
   "cell_type": "code",
   "execution_count": 45,
   "metadata": {},
   "outputs": [],
   "source": [
    "model = Model()"
   ]
  },
  {
   "cell_type": "code",
   "execution_count": 46,
   "metadata": {},
   "outputs": [
    {
     "name": "stderr",
     "output_type": "stream",
     "text": [
      "//anaconda/envs/py3l/lib/python3.6/site-packages/ipykernel_launcher.py:13: UserWarning: Implicit dimension choice for log_softmax has been deprecated. Change the call to include dim=X as an argument.\n",
      "  del sys.path[0]\n"
     ]
    }
   ],
   "source": [
    "# Construct our loss function and an Optimizer. The call to model.parameters()\n",
    "# in the SGD constructor will contain the learnable parameters of the \n",
    "# nn.Linear modules which are members of the model.\n",
    "criterion = torch.nn.NLLLoss()\n",
    "optimizer = torch.optim.SGD(model.parameters(), lr=0.01)\n",
    "\n",
    "# Training loop\n",
    "accum = []\n",
    "for epoch in range(2000):\n",
    "    \n",
    "    # Forward pass: Compute predicted y by passing x to the modela\n",
    "    \n",
    "    optimizer.zero_grad()\n",
    "    \n",
    "    prob_pred = model.forward(X_data)\n",
    "\n",
    "    # Compute and print loss\n",
    "    loss = criterion(prob_pred, y_data)\n",
    "    accum.append(loss.item())\n",
    "    #print(loss.item())\n",
    "\n",
    "    # Zero gradients, perform a backward pass, and update the weights.\n",
    "    \n",
    "    loss.backward()\n",
    "    optimizer.step()"
   ]
  },
  {
   "cell_type": "code",
   "execution_count": 47,
   "metadata": {},
   "outputs": [
    {
     "data": {
      "text/plain": [
       "[<matplotlib.lines.Line2D at 0x1a263d8f98>]"
      ]
     },
     "execution_count": 47,
     "metadata": {},
     "output_type": "execute_result"
    },
    {
     "data": {
      "image/png": "[encoded data removed]",
      "text/plain": [
       "<Figure size 432x288 with 1 Axes>"
      ]
     },
     "metadata": {},
     "output_type": "display_data"
    }
   ],
   "source": [
    "plt.plot(accum)"
   ]
  },
  {
   "cell_type": "code",
   "execution_count": 48,
   "metadata": {},
   "outputs": [
    {
     "data": {
      "text/plain": [
       "[('linear.weight', Parameter containing:\n",
       "  tensor([[-0.5691],\n",
       "          [ 2.0949]], requires_grad=True)),\n",
       " ('linear.bias', Parameter containing:\n",
       "  tensor([-0.1855, -0.1978], requires_grad=True))]"
      ]
     },
     "execution_count": 48,
     "metadata": {},
     "output_type": "execute_result"
    }
   ],
   "source": [
    "list(model.named_parameters())"
   ]
  },
  {
   "cell_type": "code",
   "execution_count": 50,
   "metadata": {},
   "outputs": [
    {
     "name": "stderr",
     "output_type": "stream",
     "text": [
      "//anaconda/envs/py3l/lib/python3.6/site-packages/ipykernel_launcher.py:13: UserWarning: Implicit dimension choice for log_softmax has been deprecated. Change the call to include dim=X as an argument.\n",
      "  del sys.path[0]\n"
     ]
    }
   ],
   "source": [
    "# After training\n",
    "Xgrid_data = torch.from_numpy(Xgrid).float()\n",
    "probs3 = model.forward(Xgrid_data)"
   ]
  },
  {
   "cell_type": "code",
   "execution_count": 53,
   "metadata": {},
   "outputs": [
    {
     "data": {
      "text/plain": [
       "[<matplotlib.lines.Line2D at 0x1a26790da0>]"
      ]
     },
     "execution_count": 53,
     "metadata": {},
     "output_type": "execute_result"
    },
    {
     "data": {
      "image/png": "[encoded data removed]",
      "text/plain": [
       "<Figure size 432x288 with 1 Axes>"
      ]
     },
     "metadata": {},
     "output_type": "display_data"
    }
   ],
   "source": [
    "plt.plot(X,y,'o')\n",
    "plt.plot(xgrid, np.exp(probs3.detach().numpy()[:,1]))"
   ]
  },
  {
   "cell_type": "code",
   "execution_count": null,
   "metadata": {},
   "outputs": [],
   "source": []
  }
 ],
 "metadata": {
  "kernelspec": {
   "display_name": "Python 3",
   "language": "python",
   "name": "python3"
  },
  "language_info": {
   "codemirror_mode": {
    "name": "ipython",
    "version": 3
   },
   "file_extension": ".py",
   "mimetype": "text/x-python",
   "name": "python",
   "nbconvert_exporter": "python",
   "pygments_lexer": "ipython3",
   "version": "3.6.8"
  }
 },
 "nbformat": 4,
 "nbformat_minor": 2
}
